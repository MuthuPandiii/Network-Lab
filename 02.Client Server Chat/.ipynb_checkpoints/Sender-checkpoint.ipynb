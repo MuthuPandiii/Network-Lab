{
 "cells": [
  {
   "cell_type": "code",
   "execution_count": 3,
   "id": "8f395b03",
   "metadata": {},
   "outputs": [],
   "source": [
    "import socket"
   ]
  },
  {
   "cell_type": "code",
   "execution_count": 4,
   "id": "a7c7c2f7",
   "metadata": {},
   "outputs": [],
   "source": [
    "s = socket.socket(socket.AF_INET,socket.SOCK_STREAM)\n",
    "host = socket.gethostname()\n",
    "port = 9999"
   ]
  },
  {
   "cell_type": "code",
   "execution_count": 5,
   "id": "b34638e7",
   "metadata": {},
   "outputs": [
    {
     "name": "stdout",
     "output_type": "stream",
     "text": [
      "Enter the Message : Hii\n",
      "Received Message : Hello\n",
      "->How are You?\n",
      "Received Message : Fine\n",
      "->Bye\n"
     ]
    }
   ],
   "source": [
    "s.connect((host,port))\n",
    "\n",
    "msg = input(\"Enter the Message : \")\n",
    "while msg.lower().strip() != 'bye':\n",
    "    s.send(msg.encode())\n",
    "    data = s.recv(1024).decode()\n",
    "    print(f'Received Message : {data}')\n",
    "    msg = input('->')\n",
    "s.close()"
   ]
  },
  {
   "cell_type": "code",
   "execution_count": null,
   "id": "828fc5d7",
   "metadata": {},
   "outputs": [],
   "source": []
  }
 ],
 "metadata": {
  "kernelspec": {
   "display_name": "Python 3",
   "language": "python",
   "name": "python3"
  },
  "language_info": {
   "codemirror_mode": {
    "name": "ipython",
    "version": 3
   },
   "file_extension": ".py",
   "mimetype": "text/x-python",
   "name": "python",
   "nbconvert_exporter": "python",
   "pygments_lexer": "ipython3",
   "version": "3.8.8"
  }
 },
 "nbformat": 4,
 "nbformat_minor": 5
}
