{
 "cells": [
  {
   "cell_type": "code",
   "execution_count": 21,
   "id": "7d6bb7c1",
   "metadata": {},
   "outputs": [],
   "source": [
    "import socket"
   ]
  },
  {
   "cell_type": "code",
   "execution_count": 22,
   "id": "dafb62d8",
   "metadata": {},
   "outputs": [],
   "source": [
    "host = socket.gethostbyname(socket.gethostname())\n",
    "port = 9999\n",
    "\n",
    "s = socket.socket(socket.AF_INET,socket.SOCK_STREAM)"
   ]
  },
  {
   "cell_type": "code",
   "execution_count": 23,
   "id": "7c789a10",
   "metadata": {},
   "outputs": [
    {
     "name": "stdout",
     "output_type": "stream",
     "text": [
      "Received Message : Hii\n",
      "->Hello\n",
      "Received Message : How are You?\n",
      "->Fine\n"
     ]
    }
   ],
   "source": [
    "s.bind((host,port))\n",
    "s.listen(2)\n",
    "\n",
    "conn,addr = s.accept()\n",
    "\n",
    "while 1:\n",
    "    data = conn.recv(1024).decode()\n",
    "    if not data:\n",
    "        break\n",
    "    print(f'Received Message : {data}')\n",
    "    msg = input('->')\n",
    "    conn.send(msg.encode())\n",
    "conn.close()"
   ]
  },
  {
   "cell_type": "code",
   "execution_count": null,
   "id": "4bf31457",
   "metadata": {},
   "outputs": [],
   "source": []
  }
 ],
 "metadata": {
  "kernelspec": {
   "display_name": "Python 3",
   "language": "python",
   "name": "python3"
  },
  "language_info": {
   "codemirror_mode": {
    "name": "ipython",
    "version": 3
   },
   "file_extension": ".py",
   "mimetype": "text/x-python",
   "name": "python",
   "nbconvert_exporter": "python",
   "pygments_lexer": "ipython3",
   "version": "3.8.8"
  }
 },
 "nbformat": 4,
 "nbformat_minor": 5
}
