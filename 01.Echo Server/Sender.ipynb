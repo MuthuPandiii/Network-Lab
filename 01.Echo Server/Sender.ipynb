{
 "cells": [
  {
   "cell_type": "code",
   "execution_count": 16,
   "id": "f70a5367",
   "metadata": {},
   "outputs": [],
   "source": [
    "import socket"
   ]
  },
  {
   "cell_type": "code",
   "execution_count": 17,
   "id": "a2232797",
   "metadata": {},
   "outputs": [],
   "source": [
    "s = socket.socket(socket.AF_INET,socket.SOCK_STREAM)"
   ]
  },
  {
   "cell_type": "code",
   "execution_count": 18,
   "id": "6ea9641a",
   "metadata": {},
   "outputs": [
    {
     "name": "stdout",
     "output_type": "stream",
     "text": [
      "Received Data : b'Hello World' \n"
     ]
    }
   ],
   "source": [
    "host = socket.gethostbyname(socket.gethostname())\n",
    "port = 9999\n",
    "\n",
    "s.connect((host,port))\n",
    "\n",
    "str = 'Hello World'\n",
    "str =str.encode('utf-8')\n",
    "s.send(str)\n",
    "data = s.recv(1024)\n",
    "s.close()\n",
    "\n",
    "print(f'Received Data : {data} ')"
   ]
  },
  {
   "cell_type": "code",
   "execution_count": null,
   "id": "6f3022be",
   "metadata": {},
   "outputs": [],
   "source": []
  }
 ],
 "metadata": {
  "kernelspec": {
   "display_name": "Python 3",
   "language": "python",
   "name": "python3"
  },
  "language_info": {
   "codemirror_mode": {
    "name": "ipython",
    "version": 3
   },
   "file_extension": ".py",
   "mimetype": "text/x-python",
   "name": "python",
   "nbconvert_exporter": "python",
   "pygments_lexer": "ipython3",
   "version": "3.8.8"
  }
 },
 "nbformat": 4,
 "nbformat_minor": 5
}
