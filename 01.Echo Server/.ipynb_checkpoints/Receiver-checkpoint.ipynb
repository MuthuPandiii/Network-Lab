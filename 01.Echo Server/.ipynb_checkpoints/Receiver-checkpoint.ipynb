{
 "cells": [
  {
   "cell_type": "code",
   "execution_count": 1,
   "id": "3071db89",
   "metadata": {},
   "outputs": [],
   "source": [
    "import socket"
   ]
  },
  {
   "cell_type": "code",
   "execution_count": 2,
   "id": "86c0bcaf",
   "metadata": {},
   "outputs": [],
   "source": [
    "host = '0.0.0.0'\n",
    "port = 9999"
   ]
  },
  {
   "cell_type": "code",
   "execution_count": 3,
   "id": "cd043139",
   "metadata": {},
   "outputs": [
    {
     "name": "stdout",
     "output_type": "stream",
     "text": [
      "Connected to Address : ('192.168.137.1', 51229)\n"
     ]
    }
   ],
   "source": [
    "s = socket.socket(socket.AF_INET,socket.SOCK_STREAM)\n",
    "\n",
    "s.bind((host,port))\n",
    "s.listen(1)\n",
    "conn,addr = s.accept()\n",
    "print(f'Connected to Address : {addr}')\n",
    "\n",
    "while 1:\n",
    "    data = conn.recv(1024)\n",
    "    if not data:\n",
    "        break\n",
    "    conn.send(data)\n",
    "conn.close()"
   ]
  },
  {
   "cell_type": "code",
   "execution_count": null,
   "id": "5dd78fc5",
   "metadata": {},
   "outputs": [],
   "source": []
  }
 ],
 "metadata": {
  "kernelspec": {
   "display_name": "Python 3",
   "language": "python",
   "name": "python3"
  },
  "language_info": {
   "codemirror_mode": {
    "name": "ipython",
    "version": 3
   },
   "file_extension": ".py",
   "mimetype": "text/x-python",
   "name": "python",
   "nbconvert_exporter": "python",
   "pygments_lexer": "ipython3",
   "version": "3.8.8"
  }
 },
 "nbformat": 4,
 "nbformat_minor": 5
}
